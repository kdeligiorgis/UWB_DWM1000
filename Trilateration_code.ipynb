{
  "nbformat": 4,
  "nbformat_minor": 0,
  "metadata": {
    "colab": {
      "name": "Final.ipynb",
      "provenance": [],
      "collapsed_sections": [],
      "authorship_tag": "ABX9TyODaO70Ro9eLNzG7xzbJAaQ",
      "include_colab_link": true
    },
    "kernelspec": {
      "name": "python3",
      "display_name": "Python 3"
    },
    "language_info": {
      "name": "python"
    }
  },
  "cells": [
    {
      "cell_type": "markdown",
      "metadata": {
        "id": "view-in-github",
        "colab_type": "text"
      },
      "source": [
        "<a href=\"https://colab.research.google.com/github/kdeligiorgis/UWB_DWM1000/blob/main/Trilateration_code.ipynb\" target=\"_parent\"><img src=\"https://colab.research.google.com/assets/colab-badge.svg\" alt=\"Open In Colab\"/></a>"
      ]
    },
    {
      "cell_type": "markdown",
      "metadata": {
        "id": "6uQrNWl8QP_F"
      },
      "source": [
        "**Trilateration Code for RTLS with UWB**\n"
      ]
    },
    {
      "cell_type": "code",
      "metadata": {
        "id": "rf8wRQNHoboo",
        "colab": {
          "base_uri": "https://localhost:8080/"
        },
        "outputId": "c0c81ce0-8262-478d-e537-e87ad18bfd83"
      },
      "source": [
        "from google.colab import drive\n",
        "drive.mount('/gdrive')\n"
      ],
      "execution_count": null,
      "outputs": [
        {
          "output_type": "stream",
          "text": [
            "Drive already mounted at /gdrive; to attempt to forcibly remount, call drive.mount(\"/gdrive\", force_remount=True).\n"
          ],
          "name": "stdout"
        }
      ]
    },
    {
      "cell_type": "code",
      "metadata": {
        "id": "ovnQO5pPVW3L"
      },
      "source": [
        "from IPython import display\n",
        "from time import sleep  \n",
        "import numpy as np\n",
        "import matplotlib.pyplot as plt\n",
        "import imageio"
      ],
      "execution_count": null,
      "outputs": []
    },
    {
      "cell_type": "code",
      "metadata": {
        "id": "-Qsaaef0VbY8"
      },
      "source": [
        "dict_data = {}\n",
        "# filename = \"Lab.txt\"\n",
        "# filename = \"Living_Room.txt\"\n",
        "#filename =  \"/gdrive/MyDrive/Living_Room.txt\" #Read from GoogleDrive\n",
        "with open(filename, \"r\") as f:\n",
        "  for line in f:\n",
        "    split_line = line.split()\n",
        "    if len(split_line) != 4:\n",
        "      continue\n",
        "    base, dist  = line.split()[1:3]\n",
        "    dict_data.setdefault(base[:-1], []).append(float(dist))"
      ],
      "execution_count": null,
      "outputs": []
    },
    {
      "cell_type": "markdown",
      "metadata": {
        "id": "kSorFJW9R4G6"
      },
      "source": [
        "Trilateration Code\n"
      ]
    },
    {
      "cell_type": "code",
      "metadata": {
        "id": "FYML5TG0VpZH"
      },
      "source": [
        "def trilateration(dict_base, dict_dist):\n",
        "  x1, y1 = dict_base[\"A\"][\"x\"], dict_base[\"A\"][\"y\"]\n",
        "  x2, y2 = dict_base[\"B\"][\"x\"], dict_base[\"B\"][\"y\"]\n",
        "  x3, y3 = dict_base[\"C\"][\"x\"], dict_base[\"C\"][\"y\"]  \n",
        "\n",
        "  d1 = dict_dist[\"A\"]\n",
        "  d2 = dict_dist[\"B\"]\n",
        "  d3 = dict_dist[\"C\"]\n",
        "\n",
        "\n",
        "  x_n11 = (d1**2 - d2**2) - (x1**2 - x2**2) - (y1**2 - y2**2)\n",
        "  x_n21 = (d1**2 - d3**2) - (x1**2 - x3**2) - (y1**2 - y3**2)\n",
        "\n",
        "  x_n12 = 2*(y2-y1)\n",
        "  x_n22 = 2*(y3-y1)\n",
        "  \n",
        "  d11 = 2*(x2-x1)\n",
        "  d21 = 2*(x3-x1)\n",
        "  d12 = 2*(y2-y1)\n",
        "  d22 = 2*(y3-y1)\n",
        "  \n",
        "  x_n = np.array(\n",
        "      [\n",
        "       [x_n11, x_n12], \n",
        "       [x_n21, x_n22],\n",
        "      ]\n",
        "  )\n",
        "  d = np.array(\n",
        "      [\n",
        "       [d11, d12],  \n",
        "       [d21, d22],\n",
        "       ]\n",
        "  )\n",
        "    \n",
        "  y_n11 = d11\n",
        "  y_n21 = d21\n",
        "  y_n12 = x_n11\n",
        "  y_n22 = x_n21\n",
        "  \n",
        "  y_n = np.array(\n",
        "      [\n",
        "       [y_n11, y_n12],\n",
        "       [y_n21, y_n22],\n",
        "       ]\n",
        "  )\n",
        "  \n",
        "  x = np.linalg.det(x_n) / np.linalg.det(d)\n",
        "  y = np.linalg.det(y_n) / np.linalg.det(d)\n",
        "\n",
        "  return x, y"
      ],
      "execution_count": null,
      "outputs": []
    },
    {
      "cell_type": "markdown",
      "metadata": {
        "id": "fzsOK5i7XUHI"
      },
      "source": [
        "**Lab Coordinates**\n"
      ]
    },
    {
      "cell_type": "code",
      "metadata": {
        "id": "dY0kT_paXQfo"
      },
      "source": [
        "# base_pos = {\n",
        "#     \"A\": {\n",
        "#         \"x\": 0,\n",
        "#         \"y\": 0,\n",
        "#     },\n",
        "#     \"B\": {\n",
        "#         \"x\": 8.7,\n",
        "#         \"y\": 1,\n",
        "#     },\n",
        "#     \"C\": {\n",
        "#         \"x\": 9.7,\n",
        "#         \"y\": 5,\n",
        "#     }\n",
        "# }"
      ],
      "execution_count": null,
      "outputs": []
    },
    {
      "cell_type": "markdown",
      "metadata": {
        "id": "3dIOVFdVuxt4"
      },
      "source": [
        "**Living Room Coordinates**"
      ]
    },
    {
      "cell_type": "code",
      "metadata": {
        "id": "tKiBbm1Yuw86"
      },
      "source": [
        "# base_pos = {\n",
        "#     \"A\": {\n",
        "#         \"x\": 0,\n",
        "#         \"y\": 0,\n",
        "#     },\n",
        "#     \"B\": {\n",
        "#         \"x\": 4.36,\n",
        "#         \"y\": 1.22,\n",
        "#     },\n",
        "#     \"C\": {\n",
        "#         \"x\": 4.34,\n",
        "#         \"y\": -1.04,\n",
        "#     }\n",
        "# }"
      ],
      "execution_count": null,
      "outputs": []
    },
    {
      "cell_type": "markdown",
      "metadata": {
        "id": "wRs8Q8YuSX73"
      },
      "source": [
        "Plot coordinates of Lab/Living Room"
      ]
    },
    {
      "cell_type": "code",
      "metadata": {
        "colab": {
          "base_uri": "https://localhost:8080/",
          "height": 297
        },
        "id": "MOvS2c13V8SC",
        "outputId": "408c7c90-1a7b-4471-9c4d-589f9ceb73fd"
      },
      "source": [
        "def plot_coords(base_pos, x_obj=None, y_obj=None, pause=1, counter=None):\n",
        "  fig, ax = plt.subplots()\n",
        "  for base, coords in base_pos.items():\n",
        "    x, y = coords[\"x\"], coords[\"y\"]\n",
        "    ax.scatter(x, y, c=\"red\")\n",
        "    plt.text(x + 0.05, y + 0.05, base)\n",
        "\n",
        "  # ax.scatter(x1,y1,c=\"black\")\n",
        "\n",
        "  if x_obj is not None and y_obj is not None:\n",
        "    ax.scatter(x_obj, y_obj)\n",
        "  \n",
        "\n",
        "  # x_A = base_pos['A']['x'] \n",
        "  # y_A = base_pos['A']['y'] \n",
        "  # x_B = base_pos['B']['x'] \n",
        "  # y_B = base_pos['B']['y'] \n",
        "  # x_C = base_pos['C']['x'] \n",
        "  # y_C = base_pos['C']['y'] \n",
        "  # circle1 = plt.Circle((x_A,y_A), dict_data['A'][5] , color='b', facecolor=None, fill=False)\n",
        "  # circle2 = plt.Circle((x_B,y_B), dict_data['B'][5] , color='b', facecolor=None, fill=False)\n",
        "  # circle3 = plt.Circle((x_C,y_C), dict_data['C'][5] , color='b', facecolor=None, fill=False)\n",
        "\n",
        "  # ax.add_patch(circle1)\n",
        "  # ax.add_patch(circle2)\n",
        "  # ax.add_patch(circle3)\n",
        "\n",
        "# For LAB\n",
        "  # plt.title(\"LAB\")\n",
        "  # plt.xlabel(\"Χ-axis\")\n",
        "  # plt.ylabel(\"Υ-axis\")\n",
        "  # plt.xlim(-4.5, 12.5)\n",
        "  # plt.ylim(-0.5, 11.5)\n",
        "\n",
        "# For Living Room\n",
        "  plt.title(\"Living Room\")\n",
        "  plt.xlabel(\"Χ-axis\")\n",
        "  plt.ylabel(\"Υ-axis\")\n",
        "  plt.xlim(-1.5, 9.5)\n",
        "  plt.ylim(-5.5, 7.5)\n",
        "  \n",
        "  plt.tight_layout()\n",
        "  \n",
        "\n",
        "  if counter is not None:\n",
        "    plt.savefig(f\"fig_{counter}.png\")\n",
        "\n",
        "plot_coords(base_pos)"
      ],
      "execution_count": null,
      "outputs": [
        {
          "output_type": "display_data",
          "data": {
            "image/png": "[encoded data removed]",
            "text/plain": [
              "<Figure size 432x288 with 1 Axes>"
            ]
          },
          "metadata": {
            "tags": [],
            "needs_background": "light"
          }
        }
      ]
    },
    {
      "cell_type": "code",
      "metadata": {
        "id": "9k9lvjI4YA-L"
      },
      "source": [
        "for n in range(len(dict_data[\"A\"])):\n",
        "  data = {base: dict_data[base][n] for base in dict_data}\n",
        "  x, y = trilateration(base_pos, data)\n",
        "  plot_coords(base_pos, round(x, 2), round(y, 2), 1, counter=n) "
      ],
      "execution_count": null,
      "outputs": []
    },
    {
      "cell_type": "markdown",
      "metadata": {
        "id": "k2v1ZpF-UUEq"
      },
      "source": [
        "Save as GIF"
      ]
    },
    {
      "cell_type": "code",
      "metadata": {
        "id": "DvNq4XL7ZXIP"
      },
      "source": [
        "with imageio.get_writer('Living_Room.gif', mode='I',fps=2) as writer:\n",
        "    for filename in [f'fig_{n}.png' for n in range(len(dict_data[\"A\"]))]:\n",
        "        image = imageio.imread(filename)\n",
        "        writer.append_data(image) "
      ],
      "execution_count": null,
      "outputs": []
    }
  ]
}